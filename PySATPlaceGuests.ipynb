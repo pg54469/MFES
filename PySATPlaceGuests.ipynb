{
  "nbformat": 4,
  "nbformat_minor": 0,
  "metadata": {
    "kernelspec": {
      "display_name": "Python 3",
      "language": "python",
      "name": "python3"
    },
    "language_info": {
      "codemirror_mode": {
        "name": "ipython",
        "version": 3
      },
      "file_extension": ".py",
      "mimetype": "text/x-python",
      "name": "python",
      "nbconvert_exporter": "python",
      "pygments_lexer": "ipython3",
      "version": "3.7.3"
    },
    "colab": {
      "provenance": []
    }
  },
  "cells": [
    {
      "cell_type": "markdown",
      "metadata": {
        "id": "xCCrN_pnh1-R"
      },
      "source": [
        "# Placement of guests\n",
        "\n",
        "Temos 3 cadeiras numa fila (*esquerda*, *meio*, *direita*), e precisamos de distribuir por elas 3 convidados (*Ana*, *Susana* e *Pedro*), com as seguintes restrições:\n",
        "\n",
        "  * A Ana não quer ficar sentada à beira do Pedro.\n",
        "  * A Ana não quer ficar na cadeira da esquerda.\n",
        "  * A Susana não se quer sentar à esquerda do Pedro.\n",
        "\n",
        "Será possível sentar os convidados? Como?"
      ]
    },
    {
      "cell_type": "markdown",
      "metadata": {
        "id": "KWML_pj3jPk8"
      },
      "source": [
        "Começamos por instalar a biblioteca PySAT (https://pysathq.github.io/index.html)."
      ]
    },
    {
      "cell_type": "code",
      "metadata": {
        "id": "MUAlNrIUjN3x",
        "outputId": "0866be01-393b-423f-c3a0-5a9f351df71c",
        "colab": {
          "base_uri": "https://localhost:8080/"
        }
      },
      "source": [
        "!pip install python-sat[pblib,aiger]"
      ],
      "execution_count": 1,
      "outputs": [
        {
          "output_type": "stream",
          "name": "stdout",
          "text": [
            "Collecting python-sat[aiger,pblib]\n",
            "  Downloading python_sat-0.1.8.dev9-cp310-cp310-manylinux_2_12_x86_64.manylinux2010_x86_64.whl (2.2 MB)\n",
            "\u001b[2K     \u001b[90m━━━━━━━━━━━━━━━━━━━━━━━━━━━━━━━━━━━━━━━━\u001b[0m \u001b[32m2.2/2.2 MB\u001b[0m \u001b[31m9.3 MB/s\u001b[0m eta \u001b[36m0:00:00\u001b[0m\n",
            "\u001b[?25hRequirement already satisfied: six in /usr/local/lib/python3.10/dist-packages (from python-sat[aiger,pblib]) (1.16.0)\n",
            "Collecting py-aiger-cnf>=2.0.0 (from python-sat[aiger,pblib])\n",
            "  Downloading py_aiger_cnf-5.0.7-py3-none-any.whl (5.1 kB)\n",
            "Collecting pypblib>=0.0.3 (from python-sat[aiger,pblib])\n",
            "  Downloading pypblib-0.0.4.tar.gz (74 kB)\n",
            "\u001b[2K     \u001b[90m━━━━━━━━━━━━━━━━━━━━━━━━━━━━━━━━━━━━━━━━\u001b[0m \u001b[32m74.0/74.0 kB\u001b[0m \u001b[31m9.2 MB/s\u001b[0m eta \u001b[36m0:00:00\u001b[0m\n",
            "\u001b[?25h  Preparing metadata (setup.py) ... \u001b[?25l\u001b[?25hdone\n",
            "Collecting bidict<0.23.0,>=0.22.0 (from py-aiger-cnf>=2.0.0->python-sat[aiger,pblib])\n",
            "  Downloading bidict-0.22.1-py3-none-any.whl (35 kB)\n",
            "Collecting funcy<2.0,>=1.12 (from py-aiger-cnf>=2.0.0->python-sat[aiger,pblib])\n",
            "  Downloading funcy-1.18-py2.py3-none-any.whl (33 kB)\n",
            "Collecting py-aiger<7.0.0,>=6.0.0 (from py-aiger-cnf>=2.0.0->python-sat[aiger,pblib])\n",
            "  Downloading py_aiger-6.2.1-py3-none-any.whl (18 kB)\n",
            "Requirement already satisfied: attrs<24,>=23 in /usr/local/lib/python3.10/dist-packages (from py-aiger<7.0.0,>=6.0.0->py-aiger-cnf>=2.0.0->python-sat[aiger,pblib]) (23.1.0)\n",
            "Collecting pyrsistent<0.20.0,>=0.19.0 (from py-aiger<7.0.0,>=6.0.0->py-aiger-cnf>=2.0.0->python-sat[aiger,pblib])\n",
            "  Downloading pyrsistent-0.19.3-py3-none-any.whl (57 kB)\n",
            "\u001b[2K     \u001b[90m━━━━━━━━━━━━━━━━━━━━━━━━━━━━━━━━━━━━━━━━\u001b[0m \u001b[32m57.5/57.5 kB\u001b[0m \u001b[31m7.7 MB/s\u001b[0m eta \u001b[36m0:00:00\u001b[0m\n",
            "\u001b[?25hRequirement already satisfied: sortedcontainers<3.0.0,>=2.3.0 in /usr/local/lib/python3.10/dist-packages (from py-aiger<7.0.0,>=6.0.0->py-aiger-cnf>=2.0.0->python-sat[aiger,pblib]) (2.4.0)\n",
            "Collecting toposort<2.0,>=1.5 (from py-aiger<7.0.0,>=6.0.0->py-aiger-cnf>=2.0.0->python-sat[aiger,pblib])\n",
            "  Downloading toposort-1.10-py3-none-any.whl (8.5 kB)\n",
            "Building wheels for collected packages: pypblib\n",
            "  Building wheel for pypblib (setup.py) ... \u001b[?25l\u001b[?25hdone\n",
            "  Created wheel for pypblib: filename=pypblib-0.0.4-cp310-cp310-linux_x86_64.whl size=2973439 sha256=dbdca678193973a1a3a4d212ecdd32a666736437a0f07eec6f661a222d83fe4c\n",
            "  Stored in directory: /root/.cache/pip/wheels/a8/3d/9c/b980a09d6084eaeb9b336edbe20371c53c2550226daeee2025\n",
            "Successfully built pypblib\n",
            "Installing collected packages: toposort, pypblib, funcy, python-sat, pyrsistent, bidict, py-aiger, py-aiger-cnf\n",
            "Successfully installed bidict-0.22.1 funcy-1.18 py-aiger-6.2.1 py-aiger-cnf-5.0.7 pypblib-0.0.4 pyrsistent-0.19.3 python-sat-0.1.8.dev9 toposort-1.10\n"
          ]
        }
      ]
    },
    {
      "cell_type": "markdown",
      "metadata": {
        "id": "Hca0bP3Nj9RG"
      },
      "source": [
        "Criamos uma variável proposicional para cada par (*pessoa*, *cadeira*)\n",
        "e um dicionário, `X`, de forma a fazer o mapeamento entre cada variável proposicional  `X[p][c]`  e o valor inteiro que lhe corresponde no formato DIMACS CNF."
      ]
    },
    {
      "cell_type": "code",
      "metadata": {
        "id": "srgex3y1fmZF",
        "outputId": "8f4e2fe9-733e-44c0-f497-9b4d51647993",
        "colab": {
          "base_uri": "https://localhost:8080/"
        }
      },
      "source": [
        "from pysat.solvers import Minisat22\n",
        "\n",
        "ps = [\"Ana\",\"Susana\",\"Pedro\"]\n",
        "cs = [\"esquerda\",\"meio\",\"direita\"]\n",
        "\n",
        "P = len(ps)\n",
        "C = len(cs)\n",
        "\n",
        "y = 1\n",
        "X = {}\n",
        "for i in range(P):\n",
        "    X[i] = {}\n",
        "    for j in range(C):\n",
        "        X[i][j] = y\n",
        "        y += 1\n",
        "\n",
        "s = Minisat22()\n",
        "\n",
        "# Todas as pessoas estão sentadas.\n",
        "for i in range(P):\n",
        "    s.add_clause([X[i][j] for j in range(C)])\n",
        "\n",
        "# No máximo uma pessoa por cadeira.\n",
        "for c in range(C):\n",
        "    for a in range(P-1):\n",
        "        for b in range(a+1,P):\n",
        "            s.add_clause([-X[a][c], -X[b][c]])\n",
        "\n",
        "\n",
        "# A Ana não quer ficar sentada à beira do Pedro.\n",
        "s.add_clause([-X[0][0], -X[2][1]])\n",
        "s.add_clause([-X[0][2], -X[2][1]])\n",
        "s.add_clause([-X[0][1], -X[2][0]])\n",
        "s.add_clause([-X[0][1], -X[2][2]])\n",
        "\n",
        "# A Ana não quer ficar na cadeira da esquerda.\n",
        "s.add_clause([-X[0][0]])\n",
        "\n",
        "# A Susana não se quer sentar à esquerda do Pedro.\n",
        "s.add_clause([-X[1][1], -X[2][2]])\n",
        "s.add_clause([-X[2][1], -X[1][0]])\n",
        "\n",
        "\n",
        "if s.solve() == True:\n",
        "    m = s.get_model()\n",
        "    print(m)\n",
        "    for p in range(P):\n",
        "        for c in range(C):\n",
        "                if m[X[p][c]-1]>0:\n",
        "                    print(\"%s - %s senta-se na cadeira %s.\" % (X[p][c], ps[p],cs[c]))\n",
        "else:\n",
        "    print(\"Não é possível sentar os convidados com estas restrições.\")\n",
        "\n",
        "\n",
        "\n"
      ],
      "execution_count": 5,
      "outputs": [
        {
          "output_type": "stream",
          "name": "stdout",
          "text": [
            "[-1, -2, 3, -4, 5, -6, 7, -8, -9]\n",
            "3 - Ana senta-se na cadeira direita.\n",
            "5 - Susana senta-se na cadeira meio.\n",
            "7 - Pedro senta-se na cadeira esquerda.\n"
          ]
        }
      ]
    }
  ]
}