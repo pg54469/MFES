{
  "nbformat": 4,
  "nbformat_minor": 0,
  "metadata": {
    "colab": {
      "provenance": []
    },
    "kernelspec": {
      "name": "python3",
      "display_name": "Python 3"
    },
    "language_info": {
      "name": "python"
    }
  },
  "cells": [
    {
      "cell_type": "markdown",
      "source": [
        "# Brevíssima introdução à utilização do Z3 em Python\n",
        "\n",
        "Vamos usar como SMT solver o popular solver Z3, através da biblioteca Python Z3Py.\n",
        "A documentação do Z3py pode ser encontrada em https://ericpony.github.io/z3py-tutorial/guide-examples.htm.\n",
        "\n",
        "\n",
        "Começamos por instalar o Z3."
      ],
      "metadata": {
        "id": "gRymx33xfsdI"
      }
    },
    {
      "cell_type": "code",
      "execution_count": 1,
      "metadata": {
        "id": "Q6ZwfrOafG_H",
        "colab": {
          "base_uri": "https://localhost:8080/"
        },
        "outputId": "20f06e75-af58-47a6-8619-be548669ae8a"
      },
      "outputs": [
        {
          "output_type": "stream",
          "name": "stdout",
          "text": [
            "Collecting z3-solver\n",
            "  Downloading z3_solver-4.12.2.0-py2.py3-none-manylinux2014_x86_64.whl (55.7 MB)\n",
            "\u001b[2K     \u001b[90m━━━━━━━━━━━━━━━━━━━━━━━━━━━━━━━━━━━━━━━━\u001b[0m \u001b[32m55.7/55.7 MB\u001b[0m \u001b[31m11.1 MB/s\u001b[0m eta \u001b[36m0:00:00\u001b[0m\n",
            "\u001b[?25hInstalling collected packages: z3-solver\n",
            "Successfully installed z3-solver-4.12.2.0\n"
          ]
        }
      ],
      "source": [
        "!pip install z3-solver"
      ]
    },
    {
      "cell_type": "markdown",
      "source": [
        "Em https://theory.stanford.edu/~nikolaj/programmingz3.html tem um tutorial bastante completo do Z3.\n",
        "\n",
        "A utilização da biblioteca Z3py segue normalmente os seguintes passos:\n",
        "\n",
        "1. Importar a biblioteca do Z3 usando o comando `from z3 import *`\n",
        "1. Criar uma instância do solver com a função `Solver()`.\n",
        "1. Adicionar as variáveis do problema. As funções `Int()`, `Real()`, `Bool()` criam uma variável no Z3 do tipo correspondente. Estas funções recebem o nome da variável como parâmetro.\n",
        "1. Adicionar as restrições do problema usando o método `add`. A restrição é definida com a sintaxe normal Python para expressões aritméticas e comparações.  As funções `And`, `Or`, `Not` e `Implies` são usadas como os operadores lógicos.\n",
        "\n",
        "1. Invocar o solver com o método `check`. Este método pode devolver um dos seguintes resultados:\n",
        "  - `sat`, quando o conjunto de restrições é satisfazível, isto é, quando uma solução for encontrada.\n",
        "  - `unsat`, quando não é possível resolver o problema, isto é, quando o conjunto de restrições é inconsistente.\n",
        "  - `unknown`, quando o solver não se consegue pronunciar quanto satisfatibilidade do conjunto de restrições.\n",
        "\n",
        "1. Interpretar os resultados no caso do resultado ser `sat`. O método `model` dá o modelo produzido pelo solver (o modelo associa a cada variável o valor que lhe foi atribuido na solução encontrada).\n",
        "Podemos consultar o modelo gerado. O método `decls` devolve as variáveis atribuídas no modelo. O método `name` devolve o nome de uma variável atribuída no modelo. O método `eval` permite avaliar uma expressão no modelo.\n",
        "Deve ser usado o método `as_long` para converter os valores inteiros do Z3 em inteiros do Python.\n",
        "\n"
      ],
      "metadata": {
        "id": "BX5Gg0s9gCgT"
      }
    },
    {
      "cell_type": "markdown",
      "source": [
        "Por exemplo, o programa que se segue tenta encontrar solução para as seguintes restrições:\n",
        "\n",
        "$$\n",
        "\\left\\{\n",
        "\\begin{array}{l}\n",
        "0 \\le x \\le 50\\\\\n",
        "y \\ge x+z \\\\\n",
        "z-5y > x \\vee 3x+y \\le 20\n",
        "\\end{array}\n",
        "\\right.\n",
        "$$\n",
        "\n"
      ],
      "metadata": {
        "id": "StZ8Q7I5geYe"
      }
    },
    {
      "cell_type": "code",
      "source": [
        "from z3 import *\n",
        "\n",
        "s = Solver()\n",
        "\n",
        "x, y = Ints('x y')\n",
        "z = Int('z')\n",
        "\n",
        "s.add(And(0<=x,x<=50))\n",
        "s.add(y >= x+z)\n",
        "s.add(Or(z-5*y>x, 3*x+y<=20))\n",
        "\n",
        "if s.check()==sat :\n",
        "    m = s.model()\n",
        "    print(m)\n",
        "    for d in m.decls():\n",
        "        print(\"%s = %d\" % (d.name(), m[d].as_long()))\n",
        "else:\n",
        "    print(\"Não tem solução.\")"
      ],
      "metadata": {
        "id": "FpGvPebBgl__",
        "colab": {
          "base_uri": "https://localhost:8080/"
        },
        "outputId": "59c6e971-9e8b-4d6b-88dc-41e9a6f25a6d"
      },
      "execution_count": 2,
      "outputs": [
        {
          "output_type": "stream",
          "name": "stdout",
          "text": [
            "[x = 50, z = -175, y = -125]\n",
            "x = 50\n",
            "z = -175\n",
            "y = -125\n"
          ]
        }
      ]
    },
    {
      "cell_type": "markdown",
      "source": [
        "Em algumas aplicações, queremos explorar vários problemas semelhantes que compartilham várias restrições. Podemos usar os métodos `push` e `pop` para fazer isso. Cada solver mantém uma pilha de asserções (restrições). O método `push` cria um novo escopo, salvando o tamanho atual da pilha. O método  `pop` remove qualquer asserção acrescentada entre ele e o `push` correspondente. O método `check` opera sobre o conjunto de asserções que está no topo da pilha."
      ],
      "metadata": {
        "id": "a-g7U8w000PQ"
      }
    },
    {
      "cell_type": "code",
      "source": [
        "print(s)\n",
        "print(\"Solving constraints in the solver s ...\")\n",
        "print(s.check())"
      ],
      "metadata": {
        "id": "5Ev-BHHjRFBC",
        "outputId": "68ae464b-1366-4a32-816c-f028b9a113eb",
        "colab": {
          "base_uri": "https://localhost:8080/"
        }
      },
      "execution_count": 3,
      "outputs": [
        {
          "output_type": "stream",
          "name": "stdout",
          "text": [
            "[And(x >= 0, x <= 50),\n",
            " y >= x + z,\n",
            " Or(z - 5*y > x, 3*x + y <= 20)]\n",
            "Solving constraints in the solver s ...\n",
            "sat\n"
          ]
        }
      ]
    },
    {
      "cell_type": "code",
      "source": [
        "print(\"Create a new scope...\")\n",
        "s.push()\n",
        "s.add( x > 110)\n",
        "print(s)\n",
        "print(\"Solving updated set of constraints...\")\n",
        "print(s.check())"
      ],
      "metadata": {
        "id": "IofM44-vRdmm",
        "outputId": "04dc17c1-9152-4b86-b388-f72835764ecb",
        "colab": {
          "base_uri": "https://localhost:8080/"
        }
      },
      "execution_count": 4,
      "outputs": [
        {
          "output_type": "stream",
          "name": "stdout",
          "text": [
            "Create a new scope...\n",
            "[And(x >= 0, x <= 50),\n",
            " y >= x + z,\n",
            " Or(z - 5*y > x, 3*x + y <= 20),\n",
            " x > 110]\n",
            "Solving updated set of constraints...\n",
            "unsat\n"
          ]
        }
      ]
    },
    {
      "cell_type": "code",
      "source": [
        "print(\"Restoring state...\")\n",
        "s.pop()\n",
        "print(s)\n",
        "print(\"Solving restored set of constraints...\")\n",
        "print(s.check())"
      ],
      "metadata": {
        "id": "QBqwwLbERkRH",
        "outputId": "d9be65d4-0766-4ac7-d42c-2a72818d0a5c",
        "colab": {
          "base_uri": "https://localhost:8080/"
        }
      },
      "execution_count": 5,
      "outputs": [
        {
          "output_type": "stream",
          "name": "stdout",
          "text": [
            "Restoring state...\n",
            "[And(x >= 0, x <= 50),\n",
            " y >= x + z,\n",
            " Or(z - 5*y > x, 3*x + y <= 20)]\n",
            "Solving restored set of constraints...\n",
            "sat\n"
          ]
        }
      ]
    },
    {
      "cell_type": "markdown",
      "source": [
        "Para já vamos apenas usar o Z3 como SAT solver, pegando em dois exemplos de modelação em lógica proposicional já trabalhados na aula."
      ],
      "metadata": {
        "id": "QYneeAHDpOAZ"
      }
    },
    {
      "cell_type": "markdown",
      "source": [
        "### Placement of guests\n",
        "\n",
        "Considere o seguinte problema.\n",
        "\n",
        "\n",
        "\n",
        "> *Temos 3 cadeiras em linha (esquerda, meio, e direita) e precisamos de sentar 3 convidados: a Ana, a Susana e o Pedro. No entanto:*\n",
        "- *A Ana não quer ficar sentada à beira do Pedro.*\n",
        "- *A Ana não quer ficar na cadeira da esquerda.*\n",
        "- *A Susana não se quer sentar à esquerda do Pedro.*\n",
        ">\n",
        "> *Será possível sentar os convidados? Como?*\n",
        "\n",
        "\n",
        "Modele o problema em Lógica Proposicional e use o Z3 para o resolver. Não se esqueça que todas as pessoas devem ficar sentadas e que só é possível sentar uma pessoa por cadeira.\n",
        "\n",
        "**Sugestão:** Crie uma variável proposicional (com nome sugestivo) para cada par $(p,c)$, onde $p$ é uma pessoa e $c$ uma cadeira. Se a pessoa $p$ ficar sentada na cadeira $c$ o valor da variável respectiva será `True`, caso contrário será `False`."
      ],
      "metadata": {
        "id": "0jj_N5WzgfTc"
      }
    },
    {
      "cell_type": "code",
      "source": [
        "pessoas = [\"Ana\",\"Susana\",\"Pedro\"]\n",
        "cadeiras = [\"esquerda\",\"meio\",\"direita\"]\n",
        "v = {}\n",
        "for p in pessoas:\n",
        "    v[p] = {}\n",
        "    for c in cadeiras:\n",
        "        v[p][c] = Bool(\"%s,%s\" % (p,c))\n",
        "\n",
        "s = Solver()\n",
        "\n",
        "# A Ana não quer ficar sentada à beira do Pedro.\n",
        "s.add(Implies(Or(v[\"Ana\"][\"esquerda\"],v[\"Ana\"][\"direita\"]),Not(v[\"Pedro\"][\"meio\"])))\n",
        "s.add(Implies(v[\"Ana\"][\"meio\"],And(Not(v[\"Pedro\"][\"esquerda\"]),Not(v[\"Pedro\"][\"direita\"]))))\n",
        "\n",
        "# A Ana não quer ficar na cadeira da esquerda.\n",
        "s.add(Not(v[\"Ana\"][\"esquerda\"]))\n",
        "\n",
        "# A Susana não se quer sentar à esquerda do Pedro.\n",
        "s.add(Implies(v[\"Pedro\"][\"direita\"],Not(v[\"Susana\"][\"meio\"])))\n",
        "s.add(Implies(v[\"Pedro\"][\"meio\"],Not(v[\"Susana\"][\"esquerda\"])))\n",
        "\n",
        "# Cada pessoa está sentada.\n",
        "for p in pessoas:\n",
        "   s.add(Or([v[p][c] for c in cadeiras]))\n",
        "\n",
        "# Apenas uma pessoa por cadeira.\n",
        "for c in cadeiras:\n",
        "    for i in range(len(pessoas)-1):\n",
        "        for j in range(i+1,len(pessoas)):\n",
        "            s.add(Implies(v[pessoas[i]][c],Not(v[pessoas[j]][c])))\n",
        "\n",
        "if s.check() == sat:\n",
        "    m = s.model()\n",
        "    #print(m)\n",
        "    for p in pessoas:\n",
        "        for c in cadeiras:\n",
        "            if is_true(m[v[p][c]]):\n",
        "                print(\"%s senta-se na cadeira %s\" % (p,c))"
      ],
      "metadata": {
        "id": "3jr6Q6sEhQL2",
        "colab": {
          "base_uri": "https://localhost:8080/"
        },
        "outputId": "3a596abd-5b9f-470e-c893-17571bfa7020"
      },
      "execution_count": 8,
      "outputs": [
        {
          "output_type": "stream",
          "name": "stdout",
          "text": [
            "Ana senta-se na cadeira direita\n",
            "Susana senta-se na cadeira meio\n",
            "Pedro senta-se na cadeira esquerda\n"
          ]
        }
      ]
    },
    {
      "cell_type": "markdown",
      "source": [
        "### Unicorn puzzle\n",
        "\n",
        "Recorde o enigma do unicórnio:\n",
        "\n",
        "> - *If the unicorn is mythical, then it is immortal.*\n",
        "- *If the unicorn is not mythical, then it is a mortal mammal.*\n",
        "- *If the unicorn is either immortal or a mammal, then it is horned.*\n",
        "- *The unicorn is magical if it is horned.*\n",
        ">\n",
        "> *Given these constraints:*\n",
        "- *Is the unicorn magical? *\n",
        "- *Is it horned?*\n",
        "- *Is it mythical?*\n",
        "- *Is it possible for the unicorn to be simultaneously mythical and\n",
        "immortal?*\n",
        "\n",
        "\n",
        "Modele o problema em Lógica Proposicional e use o Z3 para o resolver.\n",
        "\n",
        "**Sugestão:** Resolva o problema com o auxílio de 5 variáveis proposicionais, correspondentes às 5 propriedades dos unicórnios. Relembre que a afirmação $A_1, \\ldots, A_n \\models B$ é válida se e só se o conjunto de restrições $\\{A_1, \\ldots, A_n, \\neg B\\}$ é inconsistente. Tire proveito dos métodos `push` e `pop` para responder às várias questões usando de forma incremental o mesmo solver."
      ],
      "metadata": {
        "id": "1lETtSgchOvA"
      }
    },
    {
      "cell_type": "code",
      "source": [
        "mythical, immortal, mammal = Bools('mythical immortal mammal')\n",
        "horned, magical = Bools('horned magical')\n",
        "\n",
        "s = Solver()\n",
        "\n",
        "# If the unicorn is mythical, then it is immortal.\n",
        "s.add(Implies(mythical,immortal))\n",
        "\n",
        "# If the unicorn is not mythical, then it is a mortal mammal.\n",
        "s.add(Implies(Not(mythical),And(Not(immortal),mammal)))\n",
        "\n",
        "# If the unicorn is either immortal or a mammal, then it is horned.\n",
        "s.add(Implies(Or(immortal,mammal),horned))\n",
        "\n",
        "# The unicorn is magical if it is horned.\n",
        "s.add(Implies(horned,magical))\n",
        "\n",
        "s.push()\n",
        "\n",
        "print(\"Is the unicorn magical?\")\n",
        "s.add(Not(magical))\n",
        "\n",
        "r = s.check()\n",
        "if r == unsat:\n",
        "    print('Yes.')\n",
        "else:\n",
        "    print('Not necessarily.')\n",
        "\n",
        "s.pop()\n",
        "s.push()\n",
        "\n",
        "print(\"\\nIs the unicorn horned?\")\n",
        "s.add(Not(horned))\n",
        "\n",
        "r = s.check()\n",
        "if r == unsat:\n",
        "    print('Yes.')\n",
        "else:\n",
        "    print('Not necessarily.')\n",
        "\n",
        "s.pop()\n",
        "s.push()\n",
        "\n",
        "\n",
        "print(\"\\nIs the unicorn mythical?\")\n",
        "s.add(Not(mythical))\n",
        "\n",
        "r = s.check()\n",
        "if r == unsat:\n",
        "    print('Yes.')\n",
        "else:\n",
        "    print('Not necessarily.')\n",
        "    print(\"The unicorn can be not mythical...\")\n",
        "\n",
        "s.pop()\n",
        "s.push()\n",
        "\n",
        "s.add(mythical)\n",
        "\n",
        "r = s.check()\n",
        "if r == unsat:\n",
        "    print('More, he is mythical for sure.')\n",
        "else:\n",
        "    print(\"but can also be mythical.\")\n",
        "\n",
        "s.pop()\n",
        "s.push()\n",
        "\n",
        "print(\"\\nIs it possible for the unicorn to be simultaneously mythical and immortal?\")\n",
        "s.add(And(mythical, immortal))\n",
        "\n",
        "if s.check() == sat:\n",
        "    print('Yes, it is possible.')\n",
        "else:\n",
        "    print('No, it is not possible.')\n"
      ],
      "metadata": {
        "id": "sFZwpXmih4I9",
        "outputId": "d8dde8c7-2510-4159-eea4-5cad62137a83",
        "colab": {
          "base_uri": "https://localhost:8080/"
        }
      },
      "execution_count": 9,
      "outputs": [
        {
          "output_type": "stream",
          "name": "stdout",
          "text": [
            "Is the unicorn magical?\n",
            "Yes.\n",
            "\n",
            "Is the unicorn horned?\n",
            "Yes.\n",
            "\n",
            "Is the unicorn mythical?\n",
            "Not necessarily.\n",
            "The unicorn can be not mythical...\n",
            "but can also be mythical.\n",
            "\n",
            "Is it possible for the unicorn to be simultaneously mythical and immortal?\n",
            "Yes, it is possible.\n"
          ]
        }
      ]
    }
  ]
}