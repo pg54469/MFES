{
 "nbformat": 4,
 "nbformat_minor": 0,
 "metadata": {
  "colab": {
   "provenance": []
  },
  "kernelspec": {
   "name": "python3",
   "language": "python",
   "display_name": "Python 3 (ipykernel)"
  },
  "language_info": {
   "name": "python"
  }
 },
 "cells": [
  {
   "cell_type": "markdown",
   "source": [
    "# Quais os possívels modelos de uma fórmula ?\n",
    "\n",
    "Vamos usar um SAT solver para indagar sobre os possíves modelos de uma fórmula.\n"
   ],
   "metadata": {
    "id": "aSnQv3JOEHri"
   }
  },
  {
   "cell_type": "markdown",
   "source": [
    "Começamos por instalar a biblioteca PySAT (https://pysathq.github.io/index.html)."
   ],
   "metadata": {
    "id": "hn9lfH_gD9Wn"
   }
  },
  {
   "cell_type": "code",
   "source": [
    "!pip install python-sat[pblib,aiger]"
   ],
   "metadata": {
    "id": "23yRQ45vEDlw",
    "ExecuteTime": {
     "end_time": "2023-10-01T17:06:02.123190500Z",
     "start_time": "2023-10-01T17:05:49.394256800Z"
    }
   },
   "execution_count": 3,
   "outputs": [
    {
     "name": "stdout",
     "output_type": "stream",
     "text": [
      "Collecting python-sat[aiger,pblib]\n",
      "  Obtaining dependency information for python-sat[aiger,pblib] from https://files.pythonhosted.org/packages/28/9a/0f1a2669928fb7a1e39d306274063ed98e0e3c7ad374d2c9e2f4b50822df/python_sat-0.1.8.dev9-cp310-cp310-win_amd64.whl.metadata\n",
      "  Using cached python_sat-0.1.8.dev9-cp310-cp310-win_amd64.whl.metadata (1.4 kB)\n",
      "Requirement already satisfied: six in c:\\users\\wchua\\.conda\\envs\\daa\\lib\\site-packages (from python-sat[aiger,pblib]) (1.16.0)\n",
      "Collecting pypblib>=0.0.3 (from python-sat[aiger,pblib])\n",
      "  Using cached pypblib-0.0.4.tar.gz (74 kB)\n",
      "  Preparing metadata (setup.py): started\n",
      "  Preparing metadata (setup.py): finished with status 'done'\n",
      "Collecting py-aiger-cnf>=2.0.0 (from python-sat[aiger,pblib])\n",
      "  Using cached py_aiger_cnf-5.0.7-py3-none-any.whl (5.1 kB)\n",
      "Collecting bidict<0.23.0,>=0.22.0 (from py-aiger-cnf>=2.0.0->python-sat[aiger,pblib])\n",
      "  Using cached bidict-0.22.1-py3-none-any.whl (35 kB)\n",
      "Collecting funcy<2.0,>=1.12 (from py-aiger-cnf>=2.0.0->python-sat[aiger,pblib])\n",
      "  Using cached funcy-1.18-py2.py3-none-any.whl (33 kB)\n",
      "Collecting py-aiger<7.0.0,>=6.0.0 (from py-aiger-cnf>=2.0.0->python-sat[aiger,pblib])\n",
      "  Using cached py_aiger-6.2.1-py3-none-any.whl (18 kB)\n",
      "Requirement already satisfied: attrs<24,>=23 in c:\\users\\wchua\\.conda\\envs\\daa\\lib\\site-packages (from py-aiger<7.0.0,>=6.0.0->py-aiger-cnf>=2.0.0->python-sat[aiger,pblib]) (23.1.0)\n",
      "Collecting pyrsistent<0.20.0,>=0.19.0 (from py-aiger<7.0.0,>=6.0.0->py-aiger-cnf>=2.0.0->python-sat[aiger,pblib])\n",
      "  Using cached pyrsistent-0.19.3-cp310-cp310-win_amd64.whl (62 kB)\n",
      "Collecting sortedcontainers<3.0.0,>=2.3.0 (from py-aiger<7.0.0,>=6.0.0->py-aiger-cnf>=2.0.0->python-sat[aiger,pblib])\n",
      "  Using cached sortedcontainers-2.4.0-py2.py3-none-any.whl (29 kB)\n",
      "Collecting toposort<2.0,>=1.5 (from py-aiger<7.0.0,>=6.0.0->py-aiger-cnf>=2.0.0->python-sat[aiger,pblib])\n",
      "  Using cached toposort-1.10-py3-none-any.whl (8.5 kB)\n",
      "Using cached python_sat-0.1.8.dev9-cp310-cp310-win_amd64.whl (1.0 MB)\n",
      "Building wheels for collected packages: pypblib\n",
      "  Building wheel for pypblib (setup.py): started\n",
      "  Building wheel for pypblib (setup.py): finished with status 'error'\n",
      "  Running setup.py clean for pypblib\n",
      "Failed to build pypblib\n"
     ]
    },
    {
     "name": "stderr",
     "output_type": "stream",
     "text": [
      "  error: subprocess-exited-with-error\n",
      "  \n",
      "  python setup.py bdist_wheel did not run successfully.\n",
      "  exit code: 1\n",
      "  \n",
      "  [54 lines of output]\n",
      "  C:\\Users\\wchua\\.conda\\envs\\DAA\\lib\\site-packages\\setuptools\\dist.py:745: SetuptoolsDeprecationWarning: Invalid dash-separated options\n",
      "  !!\n",
      "  \n",
      "          ********************************************************************************\n",
      "          Usage of dash-separated 'description-file' will not be supported in future\n",
      "          versions. Please use the underscore name 'description_file' instead.\n",
      "  \n",
      "          This deprecation is overdue, please update your project and remove deprecated\n",
      "          calls to avoid build errors in the future.\n",
      "  \n",
      "          See https://setuptools.pypa.io/en/latest/userguide/declarative_config.html for details.\n",
      "          ********************************************************************************\n",
      "  \n",
      "  !!\n",
      "    opt = self.warn_dash_deprecation(opt, section)\n",
      "  C:\\Users\\wchua\\.conda\\envs\\DAA\\lib\\site-packages\\setuptools\\dist.py:745: SetuptoolsDeprecationWarning: Invalid dash-separated options\n",
      "  !!\n",
      "  \n",
      "          ********************************************************************************\n",
      "          Usage of dash-separated 'license-file' will not be supported in future\n",
      "          versions. Please use the underscore name 'license_file' instead.\n",
      "  \n",
      "          This deprecation is overdue, please update your project and remove deprecated\n",
      "          calls to avoid build errors in the future.\n",
      "  \n",
      "          See https://setuptools.pypa.io/en/latest/userguide/declarative_config.html for details.\n",
      "          ********************************************************************************\n",
      "  \n",
      "  !!\n",
      "    opt = self.warn_dash_deprecation(opt, section)\n",
      "  C:\\Users\\wchua\\.conda\\envs\\DAA\\lib\\site-packages\\setuptools\\config\\setupcfg.py:293: _DeprecatedConfig: Deprecated config in `setup.cfg`\n",
      "  !!\n",
      "  \n",
      "          ********************************************************************************\n",
      "          The license_file parameter is deprecated, use license_files instead.\n",
      "  \n",
      "          By 2023-Oct-30, you need to update your project and remove deprecated calls\n",
      "          or your builds will no longer be supported.\n",
      "  \n",
      "          See https://setuptools.pypa.io/en/latest/userguide/declarative_config.html for details.\n",
      "          ********************************************************************************\n",
      "  \n",
      "  !!\n",
      "    parsed = self.parsers.get(option_name, lambda x: x)(value)\n",
      "  running bdist_wheel\n",
      "  running build\n",
      "  running build_py\n",
      "  creating build\n",
      "  creating build\\lib.win-amd64-cpython-310\n",
      "  creating build\\lib.win-amd64-cpython-310\\pypblib\n",
      "  copying pypblib\\__init__.py -> build\\lib.win-amd64-cpython-310\\pypblib\n",
      "  running build_ext\n",
      "  building 'pypblib.pblib' extension\n",
      "  error: Microsoft Visual C++ 14.0 or greater is required. Get it with \"Microsoft C++ Build Tools\": https://visualstudio.microsoft.com/visual-cpp-build-tools/\n",
      "  [end of output]\n",
      "  \n",
      "  note: This error originates from a subprocess, and is likely not a problem with pip.\n",
      "  ERROR: Failed building wheel for pypblib\n",
      "ERROR: Could not build wheels for pypblib, which is required to install pyproject.toml-based projects\n"
     ]
    }
   ]
  },
  {
   "cell_type": "markdown",
   "source": [
    "Quais as possíveis atribuições de valores de verdade às variáveis proposicionais da formula\n",
    "$$\n",
    "A_1 \\wedge (A_1 \\vee P) \\wedge (\\neg A_1 \\vee \\neg P \\vee A_2) \\wedge (A_1 \\vee \\neg A_2)\n",
    "$$\n",
    "que tornam a fórmula verdadeira?"
   ],
   "metadata": {
    "id": "l07P7Vn7HKwY"
   }
  },
  {
   "cell_type": "code",
   "execution_count": 4,
   "metadata": {
    "id": "DFW_M5T2DTx6",
    "ExecuteTime": {
     "end_time": "2023-10-01T17:06:45.520666500Z",
     "start_time": "2023-10-01T17:06:45.461510200Z"
    }
   },
   "outputs": [
    {
     "ename": "ModuleNotFoundError",
     "evalue": "No module named 'pysat'",
     "output_type": "error",
     "traceback": [
      "\u001B[1;31m---------------------------------------------------------------------------\u001B[0m",
      "\u001B[1;31mModuleNotFoundError\u001B[0m                       Traceback (most recent call last)",
      "Cell \u001B[1;32mIn[4], line 1\u001B[0m\n\u001B[1;32m----> 1\u001B[0m \u001B[38;5;28;01mfrom\u001B[39;00m \u001B[38;5;21;01mpysat\u001B[39;00m\u001B[38;5;21;01m.\u001B[39;00m\u001B[38;5;21;01msolvers\u001B[39;00m \u001B[38;5;28;01mimport\u001B[39;00m Minisat22\n\u001B[0;32m      3\u001B[0m s \u001B[38;5;241m=\u001B[39m Minisat22()                           \u001B[38;5;66;03m# cria o solver s\u001B[39;00m\n\u001B[0;32m      5\u001B[0m s\u001B[38;5;241m.\u001B[39madd_clause([\u001B[38;5;241m1\u001B[39m])                          \u001B[38;5;66;03m# acrescenta uma cláusula\u001B[39;00m\n",
      "\u001B[1;31mModuleNotFoundError\u001B[0m: No module named 'pysat'"
     ]
    }
   ],
   "source": [
    "from pysat.solvers import Minisat22\n",
    "\n",
    "s = Minisat22()                           # cria o solver s\n",
    "\n",
    "s.add_clause([1])                          # acrescenta uma cláusula\n",
    "s.add_clause([1, 3])\n",
    "s.add_clause([-1, -3, 2])\n",
    "s.add_clause([1, -2])\n",
    "\n",
    "if s.solve():                              # testa a satisfatibilidade\n",
    "    print(\"SAT\")\n",
    "    print(\"Modelos:\")\n",
    "    m = s.get_model()                       # vai buscar o modelo gerado\n",
    "    print(m)                                # imprime o modelo m\n",
    "    s.add_clause([-l for l in m])           # acescenta a cláusula que exclui o modelo m\n",
    "    while s.solve():                        # repete o processo até que não haja mais modelos\n",
    "         m = s.get_model()\n",
    "         print(m)\n",
    "         s.add_clause([-l for l in m])\n",
    "else:\n",
    "    print(\"UNSAT\")\n",
    "\n",
    "s.delete()                                   # apaga o solver s"
   ]
  },
  {
   "cell_type": "markdown",
   "source": [
    "Forma alternativa de fazer o mesmo, usando um método `enum_models()` do PySAT."
   ],
   "metadata": {
    "id": "UY13pFyoLGKP"
   }
  },
  {
   "cell_type": "code",
   "source": [
    "from pysat.solvers import Minisat22\n",
    "\n",
    "s = Minisat22()                # cria o solver s\n",
    "\n",
    "s.add_clause([1])              # acrescenta uma cláusula\n",
    "s.add_clause([1, 3])\n",
    "s.add_clause([-1, -3, 2])\n",
    "s.add_clause([1, -2])\n",
    "\n",
    "if s.solve():                  # testa a satisfatibilidade\n",
    "    print(\"SAT\")\n",
    "    print(\"Modelos\")\n",
    "    ms = s.enum_models()       # vai buscar a lista de todos os modelos\n",
    "    for m in ms:\n",
    "        print(m)\n",
    "else:\n",
    "    print(\"UNSAT\")\n",
    "\n",
    "s.delete()                     # apaga o solver s"
   ],
   "metadata": {
    "id": "y93rV64VJw0i"
   },
   "execution_count": null,
   "outputs": []
  }
 ]
}
