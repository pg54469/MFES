{
 "cells": [
  {
   "cell_type": "code",
   "execution_count": 1,
   "id": "016f6da6",
   "metadata": {},
   "outputs": [],
   "source": [
    "from z3 import *"
   ]
  },
  {
   "cell_type": "markdown",
   "id": "0d24b41f",
   "metadata": {},
   "source": [
    "# Distribuição de gabinetes\n",
    "\n",
    "Considere que temos 3 gabinetes e queremos distribuir 4 pessoas (Ana=1, Nuno=2, Pedro=3 e Maria=4) por esses gabinetes.\n",
    "\n",
    "Considere ainda que foram estipuladas as seguintes regras de ocupação dos gabinetes:\n",
    "\n",
    "1. Cada pessoa ocupa um único gabinete.\n",
    "2. O Nuno e o Pedro não podem partilhar gabinete.\n",
    "3. Se a Ana ficar sozinha num gabinete, então o Pedro também terá que ficar sozinho num gabinete.\n",
    "4. Cada gabinete só pode acomodar, no máximo, 2 pessoas.\n",
    "\n",
    "Pretende-se que escreva um programa Python que, usando o Z3 como SAT solver, faça a distribuição das pessoas pelos gabinetes.\n",
    "\n",
    "Começe por instalar o Z3.\n"
   ]
  },
  {
   "cell_type": "markdown",
   "id": "3b5991b5",
   "metadata": {},
   "source": [
    "Para resolver o problema em Lógica Proposicional temos que\n",
    "\n",
    "1. Declarar um conjunto de variáveis Boolenas\n",
    "$x_{p,g}$ com a seguinte semântica:\n",
    "\n",
    "  > $x_{p,g}$ é verdade  *sse*   a pessoa  $p$ ocupa o gabinete $g$\n",
    "\n",
    "2. De seguida, teremos que modelar cada uma das restrições, acrescentando as fórmulas lógicas correspondentes.\n",
    "\n",
    "3. Finalmente testamos se o conjunto de restrições é satisfazível e extraimos a solução calculada.  \n"
   ]
  },
  {
   "cell_type": "code",
   "execution_count": 2,
   "id": "221ac267",
   "metadata": {},
   "outputs": [
    {
     "name": "stdout",
     "output_type": "stream",
     "text": [
      "Ana fica no gabinete 2\n",
      "Nuno fica no gabinete 2\n",
      "Pedro fica no gabinete 1\n",
      "Maria fica no gabinete 3\n"
     ]
    }
   ],
   "source": [
    "pessoas = [\"Ana\",\"Nuno\",\"Pedro\",\"Maria\"]\n",
    "gabs    = [1,2,3]\n",
    "x = {}\n",
    "for p in pessoas:\n",
    "    x[p] = {}\n",
    "    for g in gabs:\n",
    "        x[p][g] = Bool(\"%s,%d\" % (p,g))\n",
    "\n",
    "s = Solver()\n",
    "\n",
    "# Cada pessoa ocupa pelo menos um gabinete.\n",
    "for p in pessoas:\n",
    "    s.add( Or([x[p][g] for g in gabs ]) )\n",
    "\n",
    "# Cada pessoa ocupa no máximo um gabinete.\n",
    "for p in pessoas:\n",
    "    for g in gabs:\n",
    "        s.add( [Implies( x[p][g], Not(x[p][gi]) ) for gi in gabs if  gi != g ] )\n",
    "\n",
    "# O Nuno e o Pedro não podem partilhar gabinete.\n",
    "for g in gabs:\n",
    "    s.add( Implies(x[\"Pedro\"][g], Not(x[\"Nuno\"][g]) ) )\n",
    "    \n",
    "# Se a Ana ficar sozinha num gabinete, então o Pedro também terá que ficar sozinho num gabinete.\n",
    "\n",
    "def sozinho(p):\n",
    "    res = []\n",
    "    for g in gabs:\n",
    "        res.append ( Implies ( x[p][g], And( [Not(x[pi][g]) for pi in pessoas if  pi != p] ) ) )   \n",
    "    return And(res)\n",
    "\n",
    "s.add( Implies( sozinho(\"Ana\"), sozinho(\"Pedro\") ) )\n",
    "\n",
    "# Cada gabinete só pode acomodar, no máximo, 2 pessoas.\n",
    "for g in gabs:\n",
    "    for p0 in pessoas:\n",
    "        for p1 in [pi for pi in pessoas if pi != p0]:\n",
    "                s.add(Implies( \n",
    "                    \n",
    "                    And(x[p0][g], x[p1][g]), \n",
    "                    \n",
    "                    And([ Not (x[p2][g]) for p2 in [pi for pi in pessoas if pi != p0 and pi != p1]])  \n",
    "                            )\n",
    "                     )\n",
    "                \n",
    "s.push()\n",
    "if s.check() == sat:\n",
    "    m = s.model()\n",
    "    for p in pessoas:\n",
    "        for g in gabs:\n",
    "            if is_true(m[x[p][g]]):\n",
    "                print(\"%s fica no gabinete %s\" % (p,g))\n",
    "else:\n",
    "  print(\"Não tem solução.\")"
   ]
  },
  {
   "cell_type": "code",
   "execution_count": null,
   "id": "9032e106",
   "metadata": {},
   "outputs": [],
   "source": []
  },
  {
   "cell_type": "markdown",
   "id": "d72c1419",
   "metadata": {},
   "source": [
    "Use agora o SAT solver para testar a veracidade se cada uma das seguintes afirmações:\n",
    "\n",
    "1. Se a Maria ocupar o gabinete um, então ela ficará sozinha nesse gabinete.\n",
    "2. Se a Ana e o Nuno ficarem no mesmo gabinete, então a Maria e o Pedro terão que partilhar também um outro gabinete.\n",
    "\n",
    "A que conclusões chegou?"
   ]
  },
  {
   "cell_type": "code",
   "execution_count": 3,
   "id": "c7124eb8",
   "metadata": {},
   "outputs": [
    {
     "name": "stdout",
     "output_type": "stream",
     "text": [
      "Ana fica no gabinete 1\n",
      "Nuno fica no gabinete 2\n",
      "Pedro fica no gabinete 3\n",
      "Maria fica no gabinete 1\n",
      "A afirmação é falsa\n"
     ]
    }
   ],
   "source": [
    "#Exercicio 1\n",
    "#Se a Maria ocupar o gabinete um, então alguém tem de ficar nesse gabinete.\n",
    "s.add( Implies (x[\"Maria\"][1], Or( x[\"Pedro\"][1], x[\"Nuno\"][1], x[\"Ana\"][1] ) ) )\n",
    "s.add(x[\"Maria\"][1])\n",
    "s.push()\n",
    "\n",
    "if s.check() == sat:\n",
    "    m = s.model()\n",
    "    for p in pessoas:\n",
    "        for g in gabs:\n",
    "            if is_true(m[x[p][g]]):\n",
    "                print(\"%s fica no gabinete %s\" % (p,g))\n",
    "    \n",
    "    print(\"A afirmação é falsa\")\n",
    "\n",
    "else:\n",
    "    print(\"Não tem solução.\")\n",
    "    print(\"A afirmação é verdade\")"
   ]
  },
  {
   "cell_type": "code",
   "execution_count": 4,
   "id": "8d15a329",
   "metadata": {},
   "outputs": [
    {
     "name": "stdout",
     "output_type": "stream",
     "text": [
      "Não tem solução.\n",
      "A afirmação é verdade\n"
     ]
    }
   ],
   "source": [
    "#Exercicio 2\n",
    "#Se a Ana e o Nuno ficarem no mesmo gabinete então a Maria e o Pedro terão que ficar em gabinetes separados\n",
    "s.pop()\n",
    "\n",
    "def juntos(p1,p2):\n",
    "    res = []\n",
    "    for g in gabs:\n",
    "        s.add( Implies(x[p1][g], x[p2][g]) ) \n",
    "    return And(res)\n",
    "\n",
    "s.add( Implies( juntos(\"Ana\",\"Nuno\"), And( sozinho(\"Maria\"), sozinho(\"Pedro\") ) ) )\n",
    "s.add(juntos(\"Ana\",\"Nuno\"))\n",
    "\n",
    "s.push()\n",
    "\n",
    "if s.check() == sat:\n",
    "    m = s.model()\n",
    "    for p in pessoas:\n",
    "        for g in gabs:\n",
    "            if is_true(m[x[p][g]]):\n",
    "                print(\"%s fica no gabinete %s\" % (p,g))\n",
    "    print(\"A afirmação é falsa\")\n",
    "    \n",
    "else:\n",
    "    print(\"Não tem solução.\")\n",
    "    print(\"A afirmação é verdade\")"
   ]
  }
 ],
 "metadata": {
  "kernelspec": {
   "display_name": "Python 3",
   "language": "python",
   "name": "python3"
  },
  "language_info": {
   "codemirror_mode": {
    "name": "ipython",
    "version": 3
   },
   "file_extension": ".py",
   "mimetype": "text/x-python",
   "name": "python",
   "nbconvert_exporter": "python",
   "pygments_lexer": "ipython3",
   "version": "3.8.8"
  }
 },
 "nbformat": 4,
 "nbformat_minor": 5
}
